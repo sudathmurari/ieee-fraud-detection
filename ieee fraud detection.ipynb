{
 "cells": [
  {
   "cell_type": "code",
   "execution_count": 1,
   "metadata": {},
   "outputs": [],
   "source": [
    "import numpy as np\n",
    "import pandas as pd\n",
    "\n",
    "import matplotlib.pyplot as plt\n",
    "\n",
    "import os"
   ]
  },
  {
   "cell_type": "code",
   "execution_count": 2,
   "metadata": {},
   "outputs": [
    {
     "name": "stdout",
     "output_type": "stream",
     "text": [
      "['.ipynb_checkpoints', 'ieee fraud detection.ipynb', 'sample_submission.csv', 'test_identity.csv', 'test_transaction.csv', 'train_identity.csv', 'train_transaction.csv']\n"
     ]
    }
   ],
   "source": [
    "##credit to https://www.kaggle.com/viswajithkn/fraud-detection and https://www.kaggle.com/pavelvpster/ieee-fraud-eda-lightgbm-baseline\n",
    "print(os.listdir())"
   ]
  },
  {
   "cell_type": "code",
   "execution_count": 3,
   "metadata": {},
   "outputs": [
    {
     "name": "stdout",
     "output_type": "stream",
     "text": [
      "Wall time: 26.9 s\n"
     ]
    }
   ],
   "source": [
    "%%time\n",
    "train_transaction = pd.read_csv('train_transaction.csv', index_col='TransactionID')\n",
    "\n",
    "train_identity = pd.read_csv('train_identity.csv', index_col='TransactionID')\n",
    "\n",
    "train = train_transaction.merge(train_identity, how='left', left_index=True, right_index=True)\n",
    "\n",
    "del train_transaction, train_identity"
   ]
  },
  {
   "cell_type": "code",
   "execution_count": 4,
   "metadata": {},
   "outputs": [
    {
     "data": {
      "text/html": [
       "<div>\n",
       "<style scoped>\n",
       "    .dataframe tbody tr th:only-of-type {\n",
       "        vertical-align: middle;\n",
       "    }\n",
       "\n",
       "    .dataframe tbody tr th {\n",
       "        vertical-align: top;\n",
       "    }\n",
       "\n",
       "    .dataframe thead th {\n",
       "        text-align: right;\n",
       "    }\n",
       "</style>\n",
       "<table border=\"1\" class=\"dataframe\">\n",
       "  <thead>\n",
       "    <tr style=\"text-align: right;\">\n",
       "      <th>TransactionID</th>\n",
       "      <th>2987000</th>\n",
       "      <th>2987001</th>\n",
       "      <th>2987002</th>\n",
       "      <th>2987003</th>\n",
       "      <th>2987004</th>\n",
       "    </tr>\n",
       "  </thead>\n",
       "  <tbody>\n",
       "    <tr>\n",
       "      <td>isFraud</td>\n",
       "      <td>0</td>\n",
       "      <td>0</td>\n",
       "      <td>0</td>\n",
       "      <td>0</td>\n",
       "      <td>0</td>\n",
       "    </tr>\n",
       "    <tr>\n",
       "      <td>TransactionDT</td>\n",
       "      <td>86400</td>\n",
       "      <td>86401</td>\n",
       "      <td>86469</td>\n",
       "      <td>86499</td>\n",
       "      <td>86506</td>\n",
       "    </tr>\n",
       "    <tr>\n",
       "      <td>TransactionAmt</td>\n",
       "      <td>68.5</td>\n",
       "      <td>29</td>\n",
       "      <td>59</td>\n",
       "      <td>50</td>\n",
       "      <td>50</td>\n",
       "    </tr>\n",
       "    <tr>\n",
       "      <td>ProductCD</td>\n",
       "      <td>W</td>\n",
       "      <td>W</td>\n",
       "      <td>W</td>\n",
       "      <td>W</td>\n",
       "      <td>H</td>\n",
       "    </tr>\n",
       "    <tr>\n",
       "      <td>card1</td>\n",
       "      <td>13926</td>\n",
       "      <td>2755</td>\n",
       "      <td>4663</td>\n",
       "      <td>18132</td>\n",
       "      <td>4497</td>\n",
       "    </tr>\n",
       "    <tr>\n",
       "      <td>...</td>\n",
       "      <td>...</td>\n",
       "      <td>...</td>\n",
       "      <td>...</td>\n",
       "      <td>...</td>\n",
       "      <td>...</td>\n",
       "    </tr>\n",
       "    <tr>\n",
       "      <td>id_36</td>\n",
       "      <td>NaN</td>\n",
       "      <td>NaN</td>\n",
       "      <td>NaN</td>\n",
       "      <td>NaN</td>\n",
       "      <td>F</td>\n",
       "    </tr>\n",
       "    <tr>\n",
       "      <td>id_37</td>\n",
       "      <td>NaN</td>\n",
       "      <td>NaN</td>\n",
       "      <td>NaN</td>\n",
       "      <td>NaN</td>\n",
       "      <td>T</td>\n",
       "    </tr>\n",
       "    <tr>\n",
       "      <td>id_38</td>\n",
       "      <td>NaN</td>\n",
       "      <td>NaN</td>\n",
       "      <td>NaN</td>\n",
       "      <td>NaN</td>\n",
       "      <td>T</td>\n",
       "    </tr>\n",
       "    <tr>\n",
       "      <td>DeviceType</td>\n",
       "      <td>NaN</td>\n",
       "      <td>NaN</td>\n",
       "      <td>NaN</td>\n",
       "      <td>NaN</td>\n",
       "      <td>mobile</td>\n",
       "    </tr>\n",
       "    <tr>\n",
       "      <td>DeviceInfo</td>\n",
       "      <td>NaN</td>\n",
       "      <td>NaN</td>\n",
       "      <td>NaN</td>\n",
       "      <td>NaN</td>\n",
       "      <td>SAMSUNG SM-G892A Build/NRD90M</td>\n",
       "    </tr>\n",
       "  </tbody>\n",
       "</table>\n",
       "<p>433 rows × 5 columns</p>\n",
       "</div>"
      ],
      "text/plain": [
       "TransactionID  2987000 2987001 2987002 2987003                        2987004\n",
       "isFraud              0       0       0       0                              0\n",
       "TransactionDT    86400   86401   86469   86499                          86506\n",
       "TransactionAmt    68.5      29      59      50                             50\n",
       "ProductCD            W       W       W       W                              H\n",
       "card1            13926    2755    4663   18132                           4497\n",
       "...                ...     ...     ...     ...                            ...\n",
       "id_36              NaN     NaN     NaN     NaN                              F\n",
       "id_37              NaN     NaN     NaN     NaN                              T\n",
       "id_38              NaN     NaN     NaN     NaN                              T\n",
       "DeviceType         NaN     NaN     NaN     NaN                         mobile\n",
       "DeviceInfo         NaN     NaN     NaN     NaN  SAMSUNG SM-G892A Build/NRD90M\n",
       "\n",
       "[433 rows x 5 columns]"
      ]
     },
     "execution_count": 4,
     "metadata": {},
     "output_type": "execute_result"
    }
   ],
   "source": [
    "train.head().T"
   ]
  },
  {
   "cell_type": "code",
   "execution_count": 5,
   "metadata": {},
   "outputs": [
    {
     "name": "stdout",
     "output_type": "stream",
     "text": [
      "Wall time: 27.7 s\n"
     ]
    }
   ],
   "source": [
    "%%time\n",
    "\n",
    "test_transaction = pd.read_csv('test_transaction.csv', index_col='TransactionID')\n",
    "\n",
    "test_identity = pd.read_csv('test_identity.csv', index_col='TransactionID')\n",
    "\n",
    "test = test_transaction.merge(test_identity, how='left', left_index=True, right_index=True)\n",
    "\n",
    "del test_transaction, test_identity"
   ]
  },
  {
   "cell_type": "code",
   "execution_count": 6,
   "metadata": {},
   "outputs": [
    {
     "data": {
      "text/plain": [
       "(506691, 432)"
      ]
     },
     "execution_count": 6,
     "metadata": {},
     "output_type": "execute_result"
    }
   ],
   "source": [
    "test.shape"
   ]
  },
  {
   "cell_type": "code",
   "execution_count": 7,
   "metadata": {},
   "outputs": [
    {
     "data": {
      "text/plain": [
       "279"
      ]
     },
     "execution_count": 7,
     "metadata": {},
     "output_type": "execute_result"
    }
   ],
   "source": [
    "selected_features = [\n",
    "    'TransactionAmt', 'ProductCD',\n",
    "    'card1', 'card2', 'card3', 'card4', 'card5', 'card6', 'addr1', 'addr2', 'dist1',\n",
    "    'P_emaildomain', 'R_emaildomain',\n",
    "    'C1', 'C2', 'C4', 'C5', 'C6', 'C7', 'C8', 'C9', 'C10', 'C11', 'C12', 'C13', 'C14',\n",
    "    'D1', 'D2', 'D3', 'D4', 'D5', 'D6', 'D8', 'D9', 'D10', 'D11', 'D12', 'D13', 'D14', 'D15',\n",
    "    'M2', 'M3', 'M4', 'M5', 'M6', 'M7', 'M8', 'M9',\n",
    "    'V3', 'V4', 'V5', 'V6', 'V7', 'V8', 'V9', 'V10', 'V11', 'V12',\n",
    "    'V13', 'V17', 'V19', 'V20', 'V29', 'V30', 'V33', 'V34', 'V35', 'V36',\n",
    "    'V37', 'V38', 'V40', 'V44', 'V45', 'V46', 'V47', 'V48', 'V49', 'V51',\n",
    "    'V52', 'V53', 'V54', 'V56', 'V58', 'V59', 'V60', 'V61', 'V62', 'V63',\n",
    "    'V64', 'V69', 'V70', 'V71', 'V72', 'V73', 'V74', 'V75', 'V76', 'V78',\n",
    "    'V80', 'V81', 'V82', 'V83', 'V84', 'V85', 'V87', 'V90', 'V91', 'V92',\n",
    "    'V93', 'V94', 'V95', 'V96', 'V97', 'V99', 'V100', 'V126', 'V127', 'V128',\n",
    "    'V130', 'V131', 'V138', 'V139', 'V140', 'V143', 'V145', 'V146', 'V147', 'V149',\n",
    "    'V150', 'V151', 'V152', 'V154', 'V156', 'V158', 'V159', 'V160', 'V161', 'V162',\n",
    "    'V163', 'V164', 'V165', 'V166', 'V167', 'V169', 'V170', 'V171', 'V172', 'V173',\n",
    "    'V175', 'V176', 'V177', 'V178', 'V180', 'V182', 'V184', 'V187', 'V188', 'V189',\n",
    "    'V195', 'V197', 'V200', 'V201', 'V202', 'V203', 'V204', 'V205', 'V206', 'V207',\n",
    "    'V208', 'V209', 'V210', 'V212', 'V213', 'V214', 'V215', 'V216', 'V217', 'V219',\n",
    "    'V220', 'V221', 'V222', 'V223', 'V224', 'V225', 'V226', 'V227', 'V228', 'V229',\n",
    "    'V231', 'V233', 'V234', 'V238', 'V239', 'V242', 'V243', 'V244', 'V245', 'V246',\n",
    "    'V247', 'V249', 'V251', 'V253', 'V256', 'V257', 'V258', 'V259', 'V261', 'V262',\n",
    "    'V263', 'V264', 'V265', 'V266', 'V267', 'V268', 'V270', 'V271', 'V272', 'V273',\n",
    "    'V274', 'V275', 'V276', 'V277', 'V278', 'V279', 'V280', 'V282', 'V283', 'V285',\n",
    "    'V287', 'V288', 'V289', 'V291', 'V292', 'V294', 'V303', 'V304', 'V306', 'V307',\n",
    "    'V308', 'V310', 'V312', 'V313', 'V314', 'V315', 'V317', 'V322', 'V323', 'V324',\n",
    "    'V326', 'V329', 'V331', 'V332', 'V333', 'V335', 'V336', 'V338',\n",
    "    'id_01', 'id_02', 'id_03', 'id_05', 'id_06', 'id_09', 'id_11', 'id_12', 'id_13', 'id_14',\n",
    "    'id_15', 'id_17', 'id_19', 'id_20', 'id_30', 'id_31', 'id_32', 'id_33', 'id_36', 'id_37',\n",
    "    'id_38', 'DeviceType', 'DeviceInfo'\n",
    "]\n",
    "len(selected_features)"
   ]
  },
  {
   "cell_type": "code",
   "execution_count": 8,
   "metadata": {},
   "outputs": [
    {
     "data": {
      "text/plain": [
       "152"
      ]
     },
     "execution_count": 8,
     "metadata": {},
     "output_type": "execute_result"
    }
   ],
   "source": [
    "columns_to_drop = list(set(train.columns) - set(selected_features) - set(['isFraud', 'TransactionDT']))\n",
    "len(columns_to_drop)\n"
   ]
  },
  {
   "cell_type": "code",
   "execution_count": 9,
   "metadata": {},
   "outputs": [
    {
     "data": {
      "text/plain": [
       "['V305',\n",
       " 'V117',\n",
       " 'V320',\n",
       " 'V153',\n",
       " 'V300',\n",
       " 'V55',\n",
       " 'V311',\n",
       " 'id_29',\n",
       " 'V133',\n",
       " 'V339',\n",
       " 'V123',\n",
       " 'V28',\n",
       " 'V119',\n",
       " 'V15',\n",
       " 'V39',\n",
       " 'V299',\n",
       " 'V121',\n",
       " 'V108',\n",
       " 'V25',\n",
       " 'V254',\n",
       " 'V103',\n",
       " 'V179',\n",
       " 'V27',\n",
       " 'V132',\n",
       " 'V281',\n",
       " 'V1',\n",
       " 'V168',\n",
       " 'id_26',\n",
       " 'id_21',\n",
       " 'V22',\n",
       " 'V101',\n",
       " 'V50',\n",
       " 'id_35',\n",
       " 'V252',\n",
       " 'V148',\n",
       " 'V328',\n",
       " 'V302',\n",
       " 'V114',\n",
       " 'V135',\n",
       " 'V309',\n",
       " 'V298',\n",
       " 'V113',\n",
       " 'V57',\n",
       " 'V134',\n",
       " 'V111',\n",
       " 'V136',\n",
       " 'V24',\n",
       " 'V68',\n",
       " 'V181',\n",
       " 'V240',\n",
       " 'V337',\n",
       " 'V105',\n",
       " 'V109',\n",
       " 'V98',\n",
       " 'V18',\n",
       " 'id_23',\n",
       " 'C3',\n",
       " 'V65',\n",
       " 'V14',\n",
       " 'V230',\n",
       " 'V250',\n",
       " 'V142',\n",
       " 'id_34',\n",
       " 'V107',\n",
       " 'V120',\n",
       " 'id_18',\n",
       " 'V79',\n",
       " 'V88',\n",
       " 'V77',\n",
       " 'V330',\n",
       " 'V185',\n",
       " 'V196',\n",
       " 'V194',\n",
       " 'V236',\n",
       " 'V260',\n",
       " 'V193',\n",
       " 'V31',\n",
       " 'V67',\n",
       " 'V297',\n",
       " 'V157',\n",
       " 'V248',\n",
       " 'V110',\n",
       " 'V106',\n",
       " 'V325',\n",
       " 'V232',\n",
       " 'V296',\n",
       " 'V118',\n",
       " 'V141',\n",
       " 'V269',\n",
       " 'V186',\n",
       " 'id_22',\n",
       " 'V2',\n",
       " 'V102',\n",
       " 'V115',\n",
       " 'V316',\n",
       " 'V32',\n",
       " 'V16',\n",
       " 'id_28',\n",
       " 'id_04',\n",
       " 'id_27',\n",
       " 'V125',\n",
       " 'V116',\n",
       " 'V301',\n",
       " 'id_08',\n",
       " 'V26',\n",
       " 'id_10',\n",
       " 'V66',\n",
       " 'V334',\n",
       " 'V144',\n",
       " 'V192',\n",
       " 'V295',\n",
       " 'V41',\n",
       " 'id_16',\n",
       " 'V218',\n",
       " 'V211',\n",
       " 'V198',\n",
       " 'V129',\n",
       " 'V174',\n",
       " 'id_24',\n",
       " 'V241',\n",
       " 'V122',\n",
       " 'M1',\n",
       " 'V327',\n",
       " 'V43',\n",
       " 'V137',\n",
       " 'V21',\n",
       " 'V284',\n",
       " 'V321',\n",
       " 'V286',\n",
       " 'V89',\n",
       " 'V191',\n",
       " 'V290',\n",
       " 'V319',\n",
       " 'V112',\n",
       " 'V23',\n",
       " 'V42',\n",
       " 'V318',\n",
       " 'D7',\n",
       " 'V190',\n",
       " 'V255',\n",
       " 'V124',\n",
       " 'V293',\n",
       " 'id_07',\n",
       " 'dist2',\n",
       " 'V104',\n",
       " 'V183',\n",
       " 'id_25',\n",
       " 'V199',\n",
       " 'V155',\n",
       " 'V86',\n",
       " 'V237',\n",
       " 'V235']"
      ]
     },
     "execution_count": 9,
     "metadata": {},
     "output_type": "execute_result"
    }
   ],
   "source": [
    "columns_to_drop"
   ]
  },
  {
   "cell_type": "code",
   "execution_count": 10,
   "metadata": {},
   "outputs": [
    {
     "data": {
      "text/plain": [
       "(590540, 281)"
      ]
     },
     "execution_count": 10,
     "metadata": {},
     "output_type": "execute_result"
    }
   ],
   "source": [
    "train = train.drop(columns_to_drop, axis=1)\n",
    "test = test.drop(columns_to_drop, axis=1)\n",
    "train.shape"
   ]
  },
  {
   "cell_type": "code",
   "execution_count": 11,
   "metadata": {},
   "outputs": [],
   "source": [
    "#train['null_columns'] = train.isna().sum(axis=1)\n",
    "#test['null_columns'] = test.isna().sum(axis=1)"
   ]
  },
  {
   "cell_type": "code",
   "execution_count": 12,
   "metadata": {},
   "outputs": [],
   "source": [
    "#l = len(train.columns) - 1\n",
    "#train['null_percent'] = train['null_columns'] / l"
   ]
  },
  {
   "cell_type": "code",
   "execution_count": 13,
   "metadata": {},
   "outputs": [],
   "source": [
    "#test['null_percent'] = test['null_columns'] / l"
   ]
  },
  {
   "cell_type": "code",
   "execution_count": null,
   "metadata": {},
   "outputs": [],
   "source": []
  },
  {
   "cell_type": "code",
   "execution_count": 14,
   "metadata": {},
   "outputs": [],
   "source": [
    "train = train.fillna(-999)\n",
    "test = test.fillna(-999)"
   ]
  },
  {
   "cell_type": "code",
   "execution_count": 15,
   "metadata": {},
   "outputs": [],
   "source": [
    "#many_same_values_columns_train = [c for c in train.columns if train[c].value_counts(normalize=True).values[0] > 0.9]"
   ]
  },
  {
   "cell_type": "code",
   "execution_count": 16,
   "metadata": {},
   "outputs": [],
   "source": [
    "#many_same_values_columns_test = [c for c in test.columns if test[c].value_counts(normalize=True).values[0] > 0.9]"
   ]
  },
  {
   "cell_type": "code",
   "execution_count": 17,
   "metadata": {},
   "outputs": [],
   "source": [
    "#columns_to_drop = list(set(many_same_values_columns_train + many_same_values_columns_test))\n",
    "\n",
    "#columns_to_drop.remove('isFraud')\n",
    "\n",
    "#len(columns_to_drop)"
   ]
  },
  {
   "cell_type": "code",
   "execution_count": 18,
   "metadata": {},
   "outputs": [],
   "source": [
    "#many_same_values_columns_train"
   ]
  },
  {
   "cell_type": "code",
   "execution_count": 19,
   "metadata": {},
   "outputs": [],
   "source": [
    "import re"
   ]
  },
  {
   "cell_type": "code",
   "execution_count": 20,
   "metadata": {},
   "outputs": [],
   "source": [
    "os = ['Windows', 'iOS', 'Android', 'Mac OS', 'Linux']\n",
    "\n",
    "browser = ['chrome', 'mobile safari', 'ie', 'safari', 'edge', 'firefox']\n",
    "\n",
    "device = ['Windows', 'iOS', 'MacOS', 'SM', 'SAMSUNG', 'Moto', 'LG']\n",
    "\n",
    "def to_pattern(x: str, patterns):\n",
    "    for p in patterns:\n",
    "        t = re.compile('^(' + p + ').*')\n",
    "        if t.match(x):\n",
    "            return p\n",
    "    return 'other'\n",
    "\n",
    "def make_os_feature(df):\n",
    "    return df['id_30'].map(lambda x: to_pattern(str(x), os))\n",
    "\n",
    "def make_browser_feature(df):\n",
    "    return df['id_31'].map(lambda x: to_pattern(str(x), browser))\n",
    "\n",
    "def make_device_feature(df):\n",
    "    return df['DeviceInfo'].map(lambda x: to_pattern(str(x), device))"
   ]
  },
  {
   "cell_type": "code",
   "execution_count": 21,
   "metadata": {},
   "outputs": [],
   "source": [
    "train['os'] = make_os_feature(train)\n",
    "train['browser'] = make_browser_feature(train)\n",
    "train['device'] = make_device_feature(train)\n",
    "\n",
    "test['os'] = make_os_feature(test)\n",
    "test['browser'] = make_browser_feature(test)\n",
    "test['device'] = make_device_feature(test)"
   ]
  },
  {
   "cell_type": "code",
   "execution_count": 22,
   "metadata": {},
   "outputs": [],
   "source": [
    "temp = pd.concat([train['card1'], test['card1']], ignore_index=True).value_counts(dropna=False)\n",
    "\n",
    "train['card1_count'] = train['card1'].map(temp)\n",
    "\n",
    "test['card1_count'] = test['card1'].map(temp)\n",
    "\n",
    "del temp"
   ]
  },
  {
   "cell_type": "code",
   "execution_count": 23,
   "metadata": {},
   "outputs": [],
   "source": [
    "def features_interaction(df, feature_1, feature_2):\n",
    "    return df[feature_1].astype(str) + '_' + df[feature_2].astype(str)"
   ]
  },
  {
   "cell_type": "code",
   "execution_count": 24,
   "metadata": {},
   "outputs": [],
   "source": [
    "# Based on https://www.kaggle.com/nroman/lgb-single-model-lb-0-9419\n",
    "\n",
    "features_interactions = [\n",
    "    'id_02__id_20',\n",
    "    'id_02__D8',\n",
    "    'D11__DeviceInfo',\n",
    "    'DeviceInfo__P_emaildomain',\n",
    "    'P_emaildomain__C2',\n",
    "    'card2__dist1',\n",
    "    'card1__card5',\n",
    "    'card2__id_20',\n",
    "    'card5__P_emaildomain',\n",
    "    'addr1__card1'\n",
    "]\n",
    "\n",
    "for new_feature in features_interactions:\n",
    "    feature_1, feature_2 = new_feature.split('__')\n",
    "    \n",
    "    train[new_feature] = features_interaction(train, feature_1, feature_2)\n",
    "    test[new_feature] = features_interaction(test, feature_1, feature_2)"
   ]
  },
  {
   "cell_type": "code",
   "execution_count": 25,
   "metadata": {},
   "outputs": [
    {
     "data": {
      "text/html": [
       "<div>\n",
       "<style scoped>\n",
       "    .dataframe tbody tr th:only-of-type {\n",
       "        vertical-align: middle;\n",
       "    }\n",
       "\n",
       "    .dataframe tbody tr th {\n",
       "        vertical-align: top;\n",
       "    }\n",
       "\n",
       "    .dataframe thead th {\n",
       "        text-align: right;\n",
       "    }\n",
       "</style>\n",
       "<table border=\"1\" class=\"dataframe\">\n",
       "  <thead>\n",
       "    <tr style=\"text-align: right;\">\n",
       "      <th>TransactionID</th>\n",
       "      <th>2987000</th>\n",
       "      <th>2987001</th>\n",
       "      <th>2987002</th>\n",
       "      <th>2987003</th>\n",
       "      <th>2987004</th>\n",
       "    </tr>\n",
       "  </thead>\n",
       "  <tbody>\n",
       "    <tr>\n",
       "      <td>isFraud</td>\n",
       "      <td>0</td>\n",
       "      <td>0</td>\n",
       "      <td>0</td>\n",
       "      <td>0</td>\n",
       "      <td>0</td>\n",
       "    </tr>\n",
       "    <tr>\n",
       "      <td>TransactionDT</td>\n",
       "      <td>86400</td>\n",
       "      <td>86401</td>\n",
       "      <td>86469</td>\n",
       "      <td>86499</td>\n",
       "      <td>86506</td>\n",
       "    </tr>\n",
       "    <tr>\n",
       "      <td>TransactionAmt</td>\n",
       "      <td>68.5</td>\n",
       "      <td>29</td>\n",
       "      <td>59</td>\n",
       "      <td>50</td>\n",
       "      <td>50</td>\n",
       "    </tr>\n",
       "    <tr>\n",
       "      <td>ProductCD</td>\n",
       "      <td>W</td>\n",
       "      <td>W</td>\n",
       "      <td>W</td>\n",
       "      <td>W</td>\n",
       "      <td>H</td>\n",
       "    </tr>\n",
       "    <tr>\n",
       "      <td>card1</td>\n",
       "      <td>13926</td>\n",
       "      <td>2755</td>\n",
       "      <td>4663</td>\n",
       "      <td>18132</td>\n",
       "      <td>4497</td>\n",
       "    </tr>\n",
       "    <tr>\n",
       "      <td>...</td>\n",
       "      <td>...</td>\n",
       "      <td>...</td>\n",
       "      <td>...</td>\n",
       "      <td>...</td>\n",
       "      <td>...</td>\n",
       "    </tr>\n",
       "    <tr>\n",
       "      <td>card2__dist1</td>\n",
       "      <td>-999.0_19.0</td>\n",
       "      <td>404.0_-999.0</td>\n",
       "      <td>490.0_287.0</td>\n",
       "      <td>567.0_-999.0</td>\n",
       "      <td>514.0_-999.0</td>\n",
       "    </tr>\n",
       "    <tr>\n",
       "      <td>card1__card5</td>\n",
       "      <td>13926_142.0</td>\n",
       "      <td>2755_102.0</td>\n",
       "      <td>4663_166.0</td>\n",
       "      <td>18132_117.0</td>\n",
       "      <td>4497_102.0</td>\n",
       "    </tr>\n",
       "    <tr>\n",
       "      <td>card2__id_20</td>\n",
       "      <td>-999.0_-999.0</td>\n",
       "      <td>404.0_-999.0</td>\n",
       "      <td>490.0_-999.0</td>\n",
       "      <td>567.0_-999.0</td>\n",
       "      <td>514.0_144.0</td>\n",
       "    </tr>\n",
       "    <tr>\n",
       "      <td>card5__P_emaildomain</td>\n",
       "      <td>142.0_-999</td>\n",
       "      <td>102.0_gmail.com</td>\n",
       "      <td>166.0_outlook.com</td>\n",
       "      <td>117.0_yahoo.com</td>\n",
       "      <td>102.0_gmail.com</td>\n",
       "    </tr>\n",
       "    <tr>\n",
       "      <td>addr1__card1</td>\n",
       "      <td>315.0_13926</td>\n",
       "      <td>325.0_2755</td>\n",
       "      <td>330.0_4663</td>\n",
       "      <td>476.0_18132</td>\n",
       "      <td>420.0_4497</td>\n",
       "    </tr>\n",
       "  </tbody>\n",
       "</table>\n",
       "<p>295 rows × 5 columns</p>\n",
       "</div>"
      ],
      "text/plain": [
       "TransactionID               2987000          2987001            2987002  \\\n",
       "isFraud                           0                0                  0   \n",
       "TransactionDT                 86400            86401              86469   \n",
       "TransactionAmt                 68.5               29                 59   \n",
       "ProductCD                         W                W                  W   \n",
       "card1                         13926             2755               4663   \n",
       "...                             ...              ...                ...   \n",
       "card2__dist1            -999.0_19.0     404.0_-999.0        490.0_287.0   \n",
       "card1__card5            13926_142.0       2755_102.0         4663_166.0   \n",
       "card2__id_20          -999.0_-999.0     404.0_-999.0       490.0_-999.0   \n",
       "card5__P_emaildomain     142.0_-999  102.0_gmail.com  166.0_outlook.com   \n",
       "addr1__card1            315.0_13926       325.0_2755         330.0_4663   \n",
       "\n",
       "TransactionID                 2987003          2987004  \n",
       "isFraud                             0                0  \n",
       "TransactionDT                   86499            86506  \n",
       "TransactionAmt                     50               50  \n",
       "ProductCD                           W                H  \n",
       "card1                           18132             4497  \n",
       "...                               ...              ...  \n",
       "card2__dist1             567.0_-999.0     514.0_-999.0  \n",
       "card1__card5              18132_117.0       4497_102.0  \n",
       "card2__id_20             567.0_-999.0      514.0_144.0  \n",
       "card5__P_emaildomain  117.0_yahoo.com  102.0_gmail.com  \n",
       "addr1__card1              476.0_18132       420.0_4497  \n",
       "\n",
       "[295 rows x 5 columns]"
      ]
     },
     "execution_count": 25,
     "metadata": {},
     "output_type": "execute_result"
    }
   ],
   "source": [
    "train.head().T"
   ]
  },
  {
   "cell_type": "code",
   "execution_count": 26,
   "metadata": {},
   "outputs": [],
   "source": [
    "# From https://www.kaggle.com/fchmiel/day-and-time-powerful-predictive-feature\n",
    "\n",
    "def make_day_feature(df, offset=0.58, tname='TransactionDT'):\n",
    "    \"\"\"\n",
    "    Creates a day of the week feature, encoded as 0-6.\n",
    "    \"\"\"\n",
    "    days = df[tname] / (3600 * 24)\n",
    "    encoded_days = np.floor(days - 1 + offset) % 7\n",
    "    return encoded_days\n",
    "\n",
    "def make_hour_feature(df, tname='TransactionDT'):\n",
    "    \"\"\"\n",
    "    Creates an hour of the day feature, encoded as 0-23.\n",
    "    \"\"\"\n",
    "    hours = df[tname] / (3600)\n",
    "    encoded_hours = np.floor(hours) % 24\n",
    "    return encoded_hours"
   ]
  },
  {
   "cell_type": "code",
   "execution_count": 27,
   "metadata": {},
   "outputs": [
    {
     "data": {
      "text/plain": [
       "(0, 1000)"
      ]
     },
     "execution_count": 27,
     "metadata": {},
     "output_type": "execute_result"
    },
    {
     "data": {
      "image/png": "[encoded data removed]",
      "text/plain": [
       "<Figure size 432x288 with 1 Axes>"
      ]
     },
     "metadata": {
      "needs_background": "light"
     },
     "output_type": "display_data"
    }
   ],
   "source": [
    "plt.hist(train['TransactionDT'] / (3600 * 24), bins=1800)\n",
    "plt.xlim(1, 7)\n",
    "plt.xlabel('Days')\n",
    "plt.ylabel('Number of transactions')\n",
    "plt.ylim(0,1000)"
   ]
  },
  {
   "cell_type": "code",
   "execution_count": 28,
   "metadata": {},
   "outputs": [],
   "source": [
    "train['Weekday'] = make_day_feature(train)"
   ]
  },
  {
   "cell_type": "code",
   "execution_count": 29,
   "metadata": {},
   "outputs": [
    {
     "data": {
      "text/plain": [
       "Text(0, 0.5, 'Fraction of fraudulent transactions')"
      ]
     },
     "execution_count": 29,
     "metadata": {},
     "output_type": "execute_result"
    },
    {
     "data": {
      "image/png": "[encoded data removed]",
      "text/plain": [
       "<Figure size 432x288 with 1 Axes>"
      ]
     },
     "metadata": {
      "needs_background": "light"
     },
     "output_type": "display_data"
    }
   ],
   "source": [
    "plt.plot(train.groupby('Weekday').mean()['isFraud'])\n",
    "plt.ylim(0, 0.04)\n",
    "plt.xlabel('Encoded day')\n",
    "plt.ylabel('Fraction of fraudulent transactions')"
   ]
  },
  {
   "cell_type": "code",
   "execution_count": 30,
   "metadata": {},
   "outputs": [],
   "source": [
    "train['Hour'] = make_hour_feature(train)"
   ]
  },
  {
   "cell_type": "code",
   "execution_count": 31,
   "metadata": {},
   "outputs": [
    {
     "data": {
      "text/plain": [
       "Text(0, 0.5, 'Fraction of fraudulent transactions')"
      ]
     },
     "execution_count": 31,
     "metadata": {},
     "output_type": "execute_result"
    },
    {
     "data": {
      "image/png": "[encoded data removed]",
      "text/plain": [
       "<Figure size 432x288 with 1 Axes>"
      ]
     },
     "metadata": {
      "needs_background": "light"
     },
     "output_type": "display_data"
    }
   ],
   "source": [
    "plt.plot(train.groupby('Hour').mean()['isFraud'])\n",
    "plt.xlabel('Encoded hour')\n",
    "plt.ylabel('Fraction of fraudulent transactions')"
   ]
  },
  {
   "cell_type": "code",
   "execution_count": 32,
   "metadata": {},
   "outputs": [],
   "source": [
    "test['Weekday'] = make_day_feature(test)\n",
    "test['Hour'] = make_hour_feature(test)"
   ]
  },
  {
   "cell_type": "code",
   "execution_count": 33,
   "metadata": {},
   "outputs": [],
   "source": [
    "email_vendors = {\n",
    "    'gmail': 'google',\n",
    "    'att.net': 'att',\n",
    "    'twc.com': 'spectrum',\n",
    "    'scranton.edu': 'other',\n",
    "    'optonline.net': 'other',\n",
    "    'hotmail.co.uk': 'microsoft',\n",
    "    'comcast.net': 'other',\n",
    "    'yahoo.com.mx': 'yahoo',\n",
    "    'yahoo.fr': 'yahoo',\n",
    "    'yahoo.es': 'yahoo',\n",
    "    'charter.net': 'spectrum',\n",
    "    'live.com': 'microsoft',\n",
    "    'aim.com': 'aol',\n",
    "    'hotmail.de': 'microsoft',\n",
    "    'centurylink.net': 'centurylink',\n",
    "    'gmail.com': 'google',\n",
    "    'me.com': 'apple',\n",
    "    'earthlink.net': 'other',\n",
    "    'gmx.de': 'other',\n",
    "    'web.de': 'other',\n",
    "    'cfl.rr.com': 'other',\n",
    "    'hotmail.com': 'microsoft',\n",
    "    'protonmail.com': 'other',\n",
    "    'hotmail.fr': 'microsoft',\n",
    "    'windstream.net': 'other',\n",
    "    'outlook.es': 'microsoft',\n",
    "    'yahoo.co.jp': 'yahoo',\n",
    "    'yahoo.de': 'yahoo',\n",
    "    'servicios-ta.com': 'other',\n",
    "    'netzero.net': 'other',\n",
    "    'suddenlink.net': 'other',\n",
    "    'roadrunner.com': 'other',\n",
    "    'sc.rr.com': 'other',\n",
    "    'live.fr': 'microsoft',\n",
    "    'verizon.net': 'yahoo',\n",
    "    'msn.com': 'microsoft',\n",
    "    'q.com': 'centurylink',\n",
    "    'prodigy.net.mx': 'att',\n",
    "    'frontier.com': 'yahoo',\n",
    "    'anonymous.com': 'other',\n",
    "    'rocketmail.com': 'yahoo',\n",
    "    'sbcglobal.net': 'att',\n",
    "    'frontiernet.net': 'yahoo',\n",
    "    'ymail.com': 'yahoo',\n",
    "    'outlook.com': 'microsoft',\n",
    "    'mail.com': 'other',\n",
    "    'bellsouth.net': 'other',\n",
    "    'embarqmail.com': 'centurylink',\n",
    "    'cableone.net': 'other',\n",
    "    'hotmail.es': 'microsoft',\n",
    "    'mac.com': 'apple',\n",
    "    'yahoo.co.uk': 'yahoo',\n",
    "    'netzero.com': 'other',\n",
    "    'yahoo.com': 'yahoo',\n",
    "    'live.com.mx': 'microsoft',\n",
    "    'ptd.net': 'other',\n",
    "    'cox.net': 'other',\n",
    "    'aol.com': 'aol',\n",
    "    'juno.com': 'other',\n",
    "    'icloud.com': 'apple',\n",
    "    -999: 'undefined'\n",
    "}\n",
    "\n",
    "us_emails = ['gmail', 'net', 'edu']"
   ]
  },
  {
   "cell_type": "code",
   "execution_count": 34,
   "metadata": {},
   "outputs": [],
   "source": [
    "def transform_email(df, column):\n",
    "    out = pd.DataFrame(index=df.index)\n",
    "    \n",
    "    # vendor\n",
    "    out[column + '_vendor'] = df[column].map(email_vendors)\n",
    "    \n",
    "    # suffix\n",
    "    out[column + '_suffix'] = df[column].map(lambda x: str(x).split('.')[-1])\n",
    "    \n",
    "    # US\n",
    "    out[column + '_us'] = out[column + '_suffix'].map(lambda x: 'us' if str(x) in us_emails else 'other')\n",
    "    \n",
    "    return out"
   ]
  },
  {
   "cell_type": "code",
   "execution_count": 35,
   "metadata": {},
   "outputs": [],
   "source": [
    "temp = transform_email(train, 'P_emaildomain')\n",
    "\n",
    "train = train.merge(temp, how='left', left_index=True, right_index=True)\n",
    "\n",
    "temp = transform_email(train, 'R_emaildomain')\n",
    "\n",
    "train = train.merge(temp, how='left', left_index=True, right_index=True)\n",
    "\n",
    "del temp"
   ]
  },
  {
   "cell_type": "code",
   "execution_count": 36,
   "metadata": {},
   "outputs": [
    {
     "data": {
      "text/plain": [
       "(590540, 303)"
      ]
     },
     "execution_count": 36,
     "metadata": {},
     "output_type": "execute_result"
    }
   ],
   "source": [
    "train.shape"
   ]
  },
  {
   "cell_type": "code",
   "execution_count": 37,
   "metadata": {},
   "outputs": [],
   "source": [
    "temp = transform_email(test, 'P_emaildomain')\n",
    "\n",
    "test = test.merge(temp, how='left', left_index=True, right_index=True)\n",
    "\n",
    "temp = transform_email(test, 'R_emaildomain')\n",
    "\n",
    "test = test.merge(temp, how='left', left_index=True, right_index=True)\n",
    "\n",
    "del temp"
   ]
  },
  {
   "cell_type": "code",
   "execution_count": 38,
   "metadata": {},
   "outputs": [],
   "source": [
    "train = train.sort_values('TransactionDT').drop('TransactionDT', axis=1)\n",
    "test = test.sort_values('TransactionDT').drop('TransactionDT', axis=1)"
   ]
  },
  {
   "cell_type": "code",
   "execution_count": 39,
   "metadata": {},
   "outputs": [],
   "source": [
    "from sklearn.preprocessing import LabelEncoder"
   ]
  },
  {
   "cell_type": "code",
   "execution_count": 40,
   "metadata": {},
   "outputs": [],
   "source": [
    "def encode_categorial_features_fit(df, columns_to_encode):\n",
    "    encoders = {}\n",
    "    for c in columns_to_encode:\n",
    "        if c in df.columns:\n",
    "            encoder = LabelEncoder()\n",
    "            encoder.fit(df[c].astype(str).values)\n",
    "            encoders[c] = encoder\n",
    "    return encoders\n",
    "\n",
    "def encode_categorial_features_transform(df, encoders):\n",
    "    out = pd.DataFrame(index=df.index)\n",
    "    for c in encoders.keys():\n",
    "        if c in df.columns:\n",
    "            out[c] = encoders[c].transform(df[c].astype(str).values)\n",
    "    return out"
   ]
  },
  {
   "cell_type": "code",
   "execution_count": 41,
   "metadata": {},
   "outputs": [],
   "source": [
    "categorial_features_columns = [\n",
    "    'id_12', 'id_13', 'id_14', 'id_15', 'id_16', 'id_17', 'id_18', 'id_19', 'id_20', 'id_21',\n",
    "    'id_22', 'id_23', 'id_24', 'id_25', 'id_26', 'id_27', 'id_28', 'id_29', 'id_30', 'id_31',\n",
    "    'id_32', 'id_33', 'id_34', 'id_35', 'id_36', 'id_37', 'id_38',\n",
    "    'DeviceType', 'DeviceInfo', 'ProductCD', 'P_emaildomain', 'R_emaildomain',\n",
    "    'card1', 'card2', 'card3', 'card4', 'card5', 'card6',\n",
    "    'addr1', 'addr2',\n",
    "    'M1', 'M2', 'M3', 'M4', 'M5', 'M6', 'M7', 'M8', 'M9',\n",
    "    'P_emaildomain_vendor', 'P_emaildomain_suffix', 'P_emaildomain_us',\n",
    "    'R_emaildomain_vendor', 'R_emaildomain_suffix', 'R_emaildomain_us'  ,\n",
    "     'os', 'browser', 'device'\n",
    "] + features_interactions\n",
    "\n",
    "categorial_features_encoders = encode_categorial_features_fit(\n",
    "    pd.concat([train, test], join='outer', sort=False),\n",
    "    categorial_features_columns)"
   ]
  },
  {
   "cell_type": "code",
   "execution_count": 42,
   "metadata": {},
   "outputs": [],
   "source": [
    "temp = encode_categorial_features_transform(train, categorial_features_encoders)\n",
    "\n",
    "columns_to_drop = list(set(categorial_features_columns) & set(train.columns))\n",
    "\n",
    "train = train.drop(columns_to_drop, axis=1).merge(temp, how='left', left_index=True, right_index=True)\n",
    "\n",
    "del temp"
   ]
  },
  {
   "cell_type": "code",
   "execution_count": 43,
   "metadata": {},
   "outputs": [
    {
     "data": {
      "text/plain": [
       "(590540, 302)"
      ]
     },
     "execution_count": 43,
     "metadata": {},
     "output_type": "execute_result"
    }
   ],
   "source": [
    "train.shape"
   ]
  },
  {
   "cell_type": "code",
   "execution_count": 44,
   "metadata": {},
   "outputs": [
    {
     "data": {
      "text/html": [
       "<div>\n",
       "<style scoped>\n",
       "    .dataframe tbody tr th:only-of-type {\n",
       "        vertical-align: middle;\n",
       "    }\n",
       "\n",
       "    .dataframe tbody tr th {\n",
       "        vertical-align: top;\n",
       "    }\n",
       "\n",
       "    .dataframe thead th {\n",
       "        text-align: right;\n",
       "    }\n",
       "</style>\n",
       "<table border=\"1\" class=\"dataframe\">\n",
       "  <thead>\n",
       "    <tr style=\"text-align: right;\">\n",
       "      <th>TransactionID</th>\n",
       "      <th>2987000</th>\n",
       "      <th>2987001</th>\n",
       "      <th>2987002</th>\n",
       "      <th>2987003</th>\n",
       "      <th>2987004</th>\n",
       "    </tr>\n",
       "  </thead>\n",
       "  <tbody>\n",
       "    <tr>\n",
       "      <td>isFraud</td>\n",
       "      <td>0.0</td>\n",
       "      <td>0.0</td>\n",
       "      <td>0.0</td>\n",
       "      <td>0.0</td>\n",
       "      <td>0.0</td>\n",
       "    </tr>\n",
       "    <tr>\n",
       "      <td>TransactionAmt</td>\n",
       "      <td>68.5</td>\n",
       "      <td>29.0</td>\n",
       "      <td>59.0</td>\n",
       "      <td>50.0</td>\n",
       "      <td>50.0</td>\n",
       "    </tr>\n",
       "    <tr>\n",
       "      <td>dist1</td>\n",
       "      <td>19.0</td>\n",
       "      <td>-999.0</td>\n",
       "      <td>287.0</td>\n",
       "      <td>-999.0</td>\n",
       "      <td>-999.0</td>\n",
       "    </tr>\n",
       "    <tr>\n",
       "      <td>C1</td>\n",
       "      <td>1.0</td>\n",
       "      <td>1.0</td>\n",
       "      <td>1.0</td>\n",
       "      <td>2.0</td>\n",
       "      <td>1.0</td>\n",
       "    </tr>\n",
       "    <tr>\n",
       "      <td>C2</td>\n",
       "      <td>1.0</td>\n",
       "      <td>1.0</td>\n",
       "      <td>1.0</td>\n",
       "      <td>5.0</td>\n",
       "      <td>1.0</td>\n",
       "    </tr>\n",
       "    <tr>\n",
       "      <td>...</td>\n",
       "      <td>...</td>\n",
       "      <td>...</td>\n",
       "      <td>...</td>\n",
       "      <td>...</td>\n",
       "      <td>...</td>\n",
       "    </tr>\n",
       "    <tr>\n",
       "      <td>card2__dist1</td>\n",
       "      <td>152.0</td>\n",
       "      <td>18436.0</td>\n",
       "      <td>23504.0</td>\n",
       "      <td>29551.0</td>\n",
       "      <td>25477.0</td>\n",
       "    </tr>\n",
       "    <tr>\n",
       "      <td>card1__card5</td>\n",
       "      <td>4648.0</td>\n",
       "      <td>10937.0</td>\n",
       "      <td>13000.0</td>\n",
       "      <td>9637.0</td>\n",
       "      <td>12822.0</td>\n",
       "    </tr>\n",
       "    <tr>\n",
       "      <td>card2__id_20</td>\n",
       "      <td>0.0</td>\n",
       "      <td>5346.0</td>\n",
       "      <td>6827.0</td>\n",
       "      <td>8730.0</td>\n",
       "      <td>7295.0</td>\n",
       "    </tr>\n",
       "    <tr>\n",
       "      <td>card5__P_emaildomain</td>\n",
       "      <td>550.0</td>\n",
       "      <td>98.0</td>\n",
       "      <td>804.0</td>\n",
       "      <td>224.0</td>\n",
       "      <td>98.0</td>\n",
       "    </tr>\n",
       "    <tr>\n",
       "      <td>addr1__card1</td>\n",
       "      <td>32954.0</td>\n",
       "      <td>35911.0</td>\n",
       "      <td>39266.0</td>\n",
       "      <td>51272.0</td>\n",
       "      <td>44266.0</td>\n",
       "    </tr>\n",
       "  </tbody>\n",
       "</table>\n",
       "<p>302 rows × 5 columns</p>\n",
       "</div>"
      ],
      "text/plain": [
       "TransactionID         2987000  2987001  2987002  2987003  2987004\n",
       "isFraud                   0.0      0.0      0.0      0.0      0.0\n",
       "TransactionAmt           68.5     29.0     59.0     50.0     50.0\n",
       "dist1                    19.0   -999.0    287.0   -999.0   -999.0\n",
       "C1                        1.0      1.0      1.0      2.0      1.0\n",
       "C2                        1.0      1.0      1.0      5.0      1.0\n",
       "...                       ...      ...      ...      ...      ...\n",
       "card2__dist1            152.0  18436.0  23504.0  29551.0  25477.0\n",
       "card1__card5           4648.0  10937.0  13000.0   9637.0  12822.0\n",
       "card2__id_20              0.0   5346.0   6827.0   8730.0   7295.0\n",
       "card5__P_emaildomain    550.0     98.0    804.0    224.0     98.0\n",
       "addr1__card1          32954.0  35911.0  39266.0  51272.0  44266.0\n",
       "\n",
       "[302 rows x 5 columns]"
      ]
     },
     "execution_count": 44,
     "metadata": {},
     "output_type": "execute_result"
    }
   ],
   "source": [
    "train.head().T\n"
   ]
  },
  {
   "cell_type": "code",
   "execution_count": 45,
   "metadata": {},
   "outputs": [],
   "source": [
    "temp = encode_categorial_features_transform(test, categorial_features_encoders)\n",
    "\n",
    "columns_to_drop = list(set(categorial_features_columns) & set(test.columns))\n",
    "\n",
    "test = test.drop(columns_to_drop, axis=1).merge(temp, how='left', left_index=True, right_index=True)\n",
    "\n",
    "del temp"
   ]
  },
  {
   "cell_type": "code",
   "execution_count": 46,
   "metadata": {},
   "outputs": [
    {
     "name": "stdout",
     "output_type": "stream",
     "text": [
      "Memory usage of dataframe is 1263.51 MB\n",
      "Memory usage after optimization is: 383.82 MB\n",
      "Decreased by 69.6%\n",
      "Memory usage of dataframe is 1083.08 MB\n",
      "Memory usage after optimization is: 338.92 MB\n",
      "Decreased by 68.7%\n"
     ]
    }
   ],
   "source": [
    "# From https://www.kaggle.com/gemartin/load-data-reduce-memory-usage\n",
    "\n",
    "def reduce_mem_usage(df):\n",
    "    \"\"\" iterate through all the columns of a dataframe and modify the data type\n",
    "        to reduce memory usage.        \n",
    "    \"\"\"\n",
    "    start_mem = df.memory_usage().sum() / 1024**2\n",
    "    print('Memory usage of dataframe is {:.2f} MB'.format(start_mem))\n",
    "    \n",
    "    for col in df.columns:\n",
    "        col_type = df[col].dtype\n",
    "        \n",
    "        if col_type != object:\n",
    "            c_min = df[col].min()\n",
    "            c_max = df[col].max()\n",
    "            if str(col_type)[:3] == 'int':\n",
    "                if c_min > np.iinfo(np.int8).min and c_max < np.iinfo(np.int8).max:\n",
    "                    df[col] = df[col].astype(np.int8)\n",
    "                elif c_min > np.iinfo(np.int16).min and c_max < np.iinfo(np.int16).max:\n",
    "                    df[col] = df[col].astype(np.int16)\n",
    "                elif c_min > np.iinfo(np.int32).min and c_max < np.iinfo(np.int32).max:\n",
    "                    df[col] = df[col].astype(np.int32)\n",
    "                elif c_min > np.iinfo(np.int64).min and c_max < np.iinfo(np.int64).max:\n",
    "                    df[col] = df[col].astype(np.int64)  \n",
    "            else:\n",
    "                if c_min > np.finfo(np.float16).min and c_max < np.finfo(np.float16).max:\n",
    "                    df[col] = df[col].astype(np.float16)\n",
    "                elif c_min > np.finfo(np.float32).min and c_max < np.finfo(np.float32).max:\n",
    "                    df[col] = df[col].astype(np.float32)\n",
    "                else:\n",
    "                    df[col] = df[col].astype(np.float64)\n",
    "#        else:\n",
    "#            df[col] = df[col].astype('category')\n",
    "\n",
    "    end_mem = df.memory_usage().sum() / 1024**2\n",
    "    print('Memory usage after optimization is: {:.2f} MB'.format(end_mem))\n",
    "    print('Decreased by {:.1f}%'.format(100 * (start_mem - end_mem) / start_mem))\n",
    "    \n",
    "    return df\n",
    "\n",
    "\n",
    "train = reduce_mem_usage(train)\n",
    "test = reduce_mem_usage(test)"
   ]
  },
  {
   "cell_type": "code",
   "execution_count": 47,
   "metadata": {},
   "outputs": [],
   "source": [
    "y_train = train['isFraud'].copy()\n",
    "x_train = train.drop('isFraud', axis=1)\n",
    "#del train"
   ]
  },
  {
   "cell_type": "code",
   "execution_count": 48,
   "metadata": {},
   "outputs": [],
   "source": [
    "x_test = test.copy()\n",
    "#del test"
   ]
  },
  {
   "cell_type": "code",
   "execution_count": 49,
   "metadata": {},
   "outputs": [],
   "source": [
    "from sklearn.metrics import roc_auc_score\n",
    "from sklearn.model_selection import KFold, train_test_split\n",
    "from sklearn.linear_model import LogisticRegression"
   ]
  },
  {
   "cell_type": "code",
   "execution_count": 54,
   "metadata": {},
   "outputs": [],
   "source": [
    "lr = LogisticRegression(penalty='l2',\n",
    "                   dual=False,\n",
    "                   tol=0.0001,\n",
    "                   C=1.0,\n",
    "                   fit_intercept=True,\n",
    "                   intercept_scaling=1,\n",
    "                   class_weight=None,\n",
    "                   random_state=0)"
   ]
  },
  {
   "cell_type": "code",
   "execution_count": 55,
   "metadata": {},
   "outputs": [
    {
     "name": "stderr",
     "output_type": "stream",
     "text": [
      "C:\\ProgramData\\Anaconda3\\envs\\py37\\lib\\site-packages\\sklearn\\linear_model\\logistic.py:432: FutureWarning: Default solver will be changed to 'lbfgs' in 0.22. Specify a solver to silence this warning.\n",
      "  FutureWarning)\n"
     ]
    },
    {
     "name": "stdout",
     "output_type": "stream",
     "text": [
      "Wall time: 12min 34s\n"
     ]
    },
    {
     "name": "stderr",
     "output_type": "stream",
     "text": [
      "C:\\ProgramData\\Anaconda3\\envs\\py37\\lib\\site-packages\\sklearn\\svm\\base.py:929: ConvergenceWarning: Liblinear failed to converge, increase the number of iterations.\n",
      "  \"the number of iterations.\", ConvergenceWarning)\n"
     ]
    },
    {
     "data": {
      "text/plain": [
       "LogisticRegression(C=1.0, class_weight=None, dual=False, fit_intercept=True,\n",
       "                   intercept_scaling=1, l1_ratio=None, max_iter=100,\n",
       "                   multi_class='warn', n_jobs=None, penalty='l2',\n",
       "                   random_state=0, solver='warn', tol=0.0001, verbose=0,\n",
       "                   warm_start=False)"
      ]
     },
     "execution_count": 55,
     "metadata": {},
     "output_type": "execute_result"
    }
   ],
   "source": [
    "%%time\n",
    "lr.fit(x_train,y_train)"
   ]
  },
  {
   "cell_type": "code",
   "execution_count": 57,
   "metadata": {},
   "outputs": [],
   "source": [
    "y = lr.predict(x_test)"
   ]
  },
  {
   "cell_type": "code",
   "execution_count": 67,
   "metadata": {},
   "outputs": [],
   "source": [
    "data = {'TransactionID':x_test.index,'isFraud':y}\n",
    "submissionDF = pd.DataFrame(data)\n",
    "submissionDF.to_csv('lr_submission.csv',index=False)"
   ]
  },
  {
   "cell_type": "code",
   "execution_count": null,
   "metadata": {},
   "outputs": [],
   "source": []
  }
 ],
 "metadata": {
  "kernelspec": {
   "display_name": "Python 3",
   "language": "python",
   "name": "python3"
  },
  "language_info": {
   "codemirror_mode": {
    "name": "ipython",
    "version": 3
   },
   "file_extension": ".py",
   "mimetype": "text/x-python",
   "name": "python",
   "nbconvert_exporter": "python",
   "pygments_lexer": "ipython3",
   "version": "3.7.4"
  }
 },
 "nbformat": 4,
 "nbformat_minor": 2
}
